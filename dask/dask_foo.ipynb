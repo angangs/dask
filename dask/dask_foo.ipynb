{
 "cells": [
  {
   "cell_type": "code",
   "execution_count": 2,
   "metadata": {},
   "outputs": [],
   "source": [
    "import dask.dataframe as dd\n",
    "import dask.array as da\n",
    "state = da.random.RandomState(1)"
   ]
  },
  {
   "cell_type": "markdown",
   "metadata": {},
   "source": [
    "#### Construct dask dataset"
   ]
  },
  {
   "cell_type": "code",
   "execution_count": 3,
   "metadata": {},
   "outputs": [
    {
     "data": {
      "text/html": [
       "<div><strong>Dask DataFrame Structure:</strong></div>\n",
       "<div>\n",
       "<style scoped>\n",
       "    .dataframe tbody tr th:only-of-type {\n",
       "        vertical-align: middle;\n",
       "    }\n",
       "\n",
       "    .dataframe tbody tr th {\n",
       "        vertical-align: top;\n",
       "    }\n",
       "\n",
       "    .dataframe thead th {\n",
       "        text-align: right;\n",
       "    }\n",
       "</style>\n",
       "<table border=\"1\" class=\"dataframe\">\n",
       "  <thead>\n",
       "    <tr style=\"text-align: right;\">\n",
       "      <th></th>\n",
       "      <th>A</th>\n",
       "      <th>B</th>\n",
       "      <th>C</th>\n",
       "      <th>D</th>\n",
       "      <th>E</th>\n",
       "      <th>F</th>\n",
       "      <th>G</th>\n",
       "      <th>H</th>\n",
       "      <th>I</th>\n",
       "    </tr>\n",
       "    <tr>\n",
       "      <th>npartitions=1000</th>\n",
       "      <th></th>\n",
       "      <th></th>\n",
       "      <th></th>\n",
       "      <th></th>\n",
       "      <th></th>\n",
       "      <th></th>\n",
       "      <th></th>\n",
       "      <th></th>\n",
       "      <th></th>\n",
       "    </tr>\n",
       "  </thead>\n",
       "  <tbody>\n",
       "    <tr>\n",
       "      <th>0</th>\n",
       "      <td>object</td>\n",
       "      <td>object</td>\n",
       "      <td>float64</td>\n",
       "      <td>float64</td>\n",
       "      <td>float64</td>\n",
       "      <td>float64</td>\n",
       "      <td>float64</td>\n",
       "      <td>float64</td>\n",
       "      <td>float64</td>\n",
       "    </tr>\n",
       "    <tr>\n",
       "      <th>1000000</th>\n",
       "      <td>...</td>\n",
       "      <td>...</td>\n",
       "      <td>...</td>\n",
       "      <td>...</td>\n",
       "      <td>...</td>\n",
       "      <td>...</td>\n",
       "      <td>...</td>\n",
       "      <td>...</td>\n",
       "      <td>...</td>\n",
       "    </tr>\n",
       "    <tr>\n",
       "      <th>...</th>\n",
       "      <td>...</td>\n",
       "      <td>...</td>\n",
       "      <td>...</td>\n",
       "      <td>...</td>\n",
       "      <td>...</td>\n",
       "      <td>...</td>\n",
       "      <td>...</td>\n",
       "      <td>...</td>\n",
       "      <td>...</td>\n",
       "    </tr>\n",
       "    <tr>\n",
       "      <th>999000000</th>\n",
       "      <td>...</td>\n",
       "      <td>...</td>\n",
       "      <td>...</td>\n",
       "      <td>...</td>\n",
       "      <td>...</td>\n",
       "      <td>...</td>\n",
       "      <td>...</td>\n",
       "      <td>...</td>\n",
       "      <td>...</td>\n",
       "    </tr>\n",
       "    <tr>\n",
       "      <th>999999999</th>\n",
       "      <td>...</td>\n",
       "      <td>...</td>\n",
       "      <td>...</td>\n",
       "      <td>...</td>\n",
       "      <td>...</td>\n",
       "      <td>...</td>\n",
       "      <td>...</td>\n",
       "      <td>...</td>\n",
       "      <td>...</td>\n",
       "    </tr>\n",
       "  </tbody>\n",
       "</table>\n",
       "</div>\n",
       "<div>Dask Name: assign, 22002 tasks</div>"
      ],
      "text/plain": [
       "Dask DataFrame Structure:\n",
       "                       A       B        C        D        E        F        G        H        I\n",
       "npartitions=1000                                                                               \n",
       "0                 object  object  float64  float64  float64  float64  float64  float64  float64\n",
       "1000000              ...     ...      ...      ...      ...      ...      ...      ...      ...\n",
       "...                  ...     ...      ...      ...      ...      ...      ...      ...      ...\n",
       "999000000            ...     ...      ...      ...      ...      ...      ...      ...      ...\n",
       "999999999            ...     ...      ...      ...      ...      ...      ...      ...      ...\n",
       "Dask Name: assign, 22002 tasks"
      ]
     },
     "execution_count": 3,
     "metadata": {},
     "output_type": "execute_result"
    }
   ],
   "source": [
    "size_rows = 10**9\n",
    "size_cols = 7\n",
    "size_chunk = 10**6\n",
    "list_of_objects_1 = [f'ID{i}' for i in range(100)]\n",
    "list_of_objects_2 = [f'ID{i}' for i in range(100, 200)]\n",
    "\n",
    "data_object_1 = state.choice(a=list_of_objects_1, size=(size_rows,1), chunks=(size_chunk,1))\n",
    "data_object_2 = state.choice(a=list_of_objects_1, size=(size_rows,1), chunks=(size_chunk,1))\n",
    "data_float = state.random(size=(size_rows,size_cols), chunks=(size_chunk,size_cols))\n",
    "\n",
    "ddf = dd.from_dask_array(data_object_1, columns=list('A'))\n",
    "ddf_object_2 = dd.from_dask_array(data_object_2, columns=list('B'))\n",
    "ddf_float = dd.from_dask_array(data_float, columns=list('CDEFGHI'))\n",
    "\n",
    "ddf['B'] = ddf_object_2['B']\n",
    "ddf['C'] = ddf_float['C']\n",
    "ddf['D'] = ddf_float['D']\n",
    "ddf['E'] = ddf_float['E']\n",
    "ddf['F'] = ddf_float['F']\n",
    "ddf['G'] = ddf_float['G']\n",
    "ddf['H'] = ddf_float['H']\n",
    "ddf['I'] = ddf_float['I']\n",
    "ddf"
   ]
  },
  {
   "cell_type": "markdown",
   "metadata": {},
   "source": [
    "#### Dataset look like"
   ]
  },
  {
   "cell_type": "code",
   "execution_count": 11,
   "metadata": {},
   "outputs": [
    {
     "data": {
      "text/html": [
       "<div>\n",
       "<style scoped>\n",
       "    .dataframe tbody tr th:only-of-type {\n",
       "        vertical-align: middle;\n",
       "    }\n",
       "\n",
       "    .dataframe tbody tr th {\n",
       "        vertical-align: top;\n",
       "    }\n",
       "\n",
       "    .dataframe thead th {\n",
       "        text-align: right;\n",
       "    }\n",
       "</style>\n",
       "<table border=\"1\" class=\"dataframe\">\n",
       "  <thead>\n",
       "    <tr style=\"text-align: right;\">\n",
       "      <th></th>\n",
       "      <th>A</th>\n",
       "      <th>B</th>\n",
       "      <th>C</th>\n",
       "      <th>D</th>\n",
       "      <th>E</th>\n",
       "      <th>F</th>\n",
       "      <th>G</th>\n",
       "      <th>H</th>\n",
       "      <th>I</th>\n",
       "    </tr>\n",
       "  </thead>\n",
       "  <tbody>\n",
       "    <tr>\n",
       "      <th>0</th>\n",
       "      <td>ID72</td>\n",
       "      <td>ID69</td>\n",
       "      <td>0.620333</td>\n",
       "      <td>0.447523</td>\n",
       "      <td>0.630952</td>\n",
       "      <td>0.273380</td>\n",
       "      <td>0.762568</td>\n",
       "      <td>0.279339</td>\n",
       "      <td>0.585494</td>\n",
       "    </tr>\n",
       "    <tr>\n",
       "      <th>1</th>\n",
       "      <td>ID35</td>\n",
       "      <td>ID35</td>\n",
       "      <td>0.944907</td>\n",
       "      <td>0.495363</td>\n",
       "      <td>0.095849</td>\n",
       "      <td>0.675129</td>\n",
       "      <td>0.179783</td>\n",
       "      <td>0.895930</td>\n",
       "      <td>0.287761</td>\n",
       "    </tr>\n",
       "    <tr>\n",
       "      <th>2</th>\n",
       "      <td>ID3</td>\n",
       "      <td>ID49</td>\n",
       "      <td>0.748195</td>\n",
       "      <td>0.637758</td>\n",
       "      <td>0.960402</td>\n",
       "      <td>0.448629</td>\n",
       "      <td>0.793454</td>\n",
       "      <td>0.976845</td>\n",
       "      <td>0.553017</td>\n",
       "    </tr>\n",
       "    <tr>\n",
       "      <th>3</th>\n",
       "      <td>ID20</td>\n",
       "      <td>ID94</td>\n",
       "      <td>0.428023</td>\n",
       "      <td>0.931614</td>\n",
       "      <td>0.754333</td>\n",
       "      <td>0.940860</td>\n",
       "      <td>0.460578</td>\n",
       "      <td>0.702318</td>\n",
       "      <td>0.932937</td>\n",
       "    </tr>\n",
       "    <tr>\n",
       "      <th>4</th>\n",
       "      <td>ID75</td>\n",
       "      <td>ID50</td>\n",
       "      <td>0.297353</td>\n",
       "      <td>0.710219</td>\n",
       "      <td>0.088402</td>\n",
       "      <td>0.635305</td>\n",
       "      <td>0.399633</td>\n",
       "      <td>0.823551</td>\n",
       "      <td>0.937930</td>\n",
       "    </tr>\n",
       "    <tr>\n",
       "      <th>5</th>\n",
       "      <td>ID66</td>\n",
       "      <td>ID35</td>\n",
       "      <td>0.053875</td>\n",
       "      <td>0.680031</td>\n",
       "      <td>0.387828</td>\n",
       "      <td>0.200530</td>\n",
       "      <td>0.720087</td>\n",
       "      <td>0.638489</td>\n",
       "      <td>0.760411</td>\n",
       "    </tr>\n",
       "    <tr>\n",
       "      <th>6</th>\n",
       "      <td>ID59</td>\n",
       "      <td>ID17</td>\n",
       "      <td>0.091670</td>\n",
       "      <td>0.081982</td>\n",
       "      <td>0.907554</td>\n",
       "      <td>0.247872</td>\n",
       "      <td>0.336054</td>\n",
       "      <td>0.947644</td>\n",
       "      <td>0.317975</td>\n",
       "    </tr>\n",
       "    <tr>\n",
       "      <th>7</th>\n",
       "      <td>ID24</td>\n",
       "      <td>ID34</td>\n",
       "      <td>0.426804</td>\n",
       "      <td>0.364789</td>\n",
       "      <td>0.831076</td>\n",
       "      <td>0.836025</td>\n",
       "      <td>0.653280</td>\n",
       "      <td>0.312214</td>\n",
       "      <td>0.131841</td>\n",
       "    </tr>\n",
       "    <tr>\n",
       "      <th>8</th>\n",
       "      <td>ID80</td>\n",
       "      <td>ID24</td>\n",
       "      <td>0.656172</td>\n",
       "      <td>0.577048</td>\n",
       "      <td>0.877196</td>\n",
       "      <td>0.891309</td>\n",
       "      <td>0.110991</td>\n",
       "      <td>0.318264</td>\n",
       "      <td>0.725280</td>\n",
       "    </tr>\n",
       "    <tr>\n",
       "      <th>9</th>\n",
       "      <td>ID37</td>\n",
       "      <td>ID8</td>\n",
       "      <td>0.674422</td>\n",
       "      <td>0.556494</td>\n",
       "      <td>0.922952</td>\n",
       "      <td>0.817823</td>\n",
       "      <td>0.767931</td>\n",
       "      <td>0.389167</td>\n",
       "      <td>0.281679</td>\n",
       "    </tr>\n",
       "  </tbody>\n",
       "</table>\n",
       "</div>"
      ],
      "text/plain": [
       "      A     B         C         D         E         F         G         H  \\\n",
       "0  ID72  ID69  0.620333  0.447523  0.630952  0.273380  0.762568  0.279339   \n",
       "1  ID35  ID35  0.944907  0.495363  0.095849  0.675129  0.179783  0.895930   \n",
       "2   ID3  ID49  0.748195  0.637758  0.960402  0.448629  0.793454  0.976845   \n",
       "3  ID20  ID94  0.428023  0.931614  0.754333  0.940860  0.460578  0.702318   \n",
       "4  ID75  ID50  0.297353  0.710219  0.088402  0.635305  0.399633  0.823551   \n",
       "5  ID66  ID35  0.053875  0.680031  0.387828  0.200530  0.720087  0.638489   \n",
       "6  ID59  ID17  0.091670  0.081982  0.907554  0.247872  0.336054  0.947644   \n",
       "7  ID24  ID34  0.426804  0.364789  0.831076  0.836025  0.653280  0.312214   \n",
       "8  ID80  ID24  0.656172  0.577048  0.877196  0.891309  0.110991  0.318264   \n",
       "9  ID37   ID8  0.674422  0.556494  0.922952  0.817823  0.767931  0.389167   \n",
       "\n",
       "          I  \n",
       "0  0.585494  \n",
       "1  0.287761  \n",
       "2  0.553017  \n",
       "3  0.932937  \n",
       "4  0.937930  \n",
       "5  0.760411  \n",
       "6  0.317975  \n",
       "7  0.131841  \n",
       "8  0.725280  \n",
       "9  0.281679  "
      ]
     },
     "execution_count": 11,
     "metadata": {},
     "output_type": "execute_result"
    }
   ],
   "source": [
    "ddf.head(10)"
   ]
  },
  {
   "cell_type": "markdown",
   "metadata": {},
   "source": [
    "#### Dataset size"
   ]
  },
  {
   "cell_type": "code",
   "execution_count": 23,
   "metadata": {},
   "outputs": [
    {
     "data": {
      "text/plain": [
       "'72.0 GB'"
      ]
     },
     "execution_count": 23,
     "metadata": {},
     "output_type": "execute_result"
    }
   ],
   "source": [
    "f'{ddf.head(10).memory_usage(index=False).sum()*(size_rows/10)*10**-9} GB'"
   ]
  },
  {
   "cell_type": "markdown",
   "metadata": {},
   "source": [
    "#### Dask groupby"
   ]
  },
  {
   "cell_type": "markdown",
   "metadata": {},
   "source": [
    "Basic aggregation"
   ]
  },
  {
   "cell_type": "code",
   "execution_count": 3,
   "metadata": {
    "scrolled": true
   },
   "outputs": [
    {
     "name": "stdout",
     "output_type": "stream",
     "text": [
      "Computation started\n",
      "--- 280.72916078567505 seconds ---\n"
     ]
    }
   ],
   "source": [
    "import time\n",
    "start_time = time.time()\n",
    "print('Computation started')\n",
    "ddf.groupby(['A'], dropna=False, observed=True).agg({'C':'sum', 'D':'sum', 'E':'sum'}).compute()\n",
    "print(\"--- %s seconds ---\" % (time.time() - start_time))"
   ]
  },
  {
   "cell_type": "markdown",
   "metadata": {},
   "source": [
    "Advanced aggregation"
   ]
  },
  {
   "cell_type": "code",
   "execution_count": 4,
   "metadata": {},
   "outputs": [
    {
     "name": "stdout",
     "output_type": "stream",
     "text": [
      "Computation started\n",
      "--- 319.9341297149658 seconds ---\n"
     ]
    }
   ],
   "source": [
    "import time\n",
    "start_time = time.time()\n",
    "print('Computation started')\n",
    "ddf.groupby(['A', 'B'], dropna=False, observed=True).agg({'C':'median', 'C':'std'}).compute()\n",
    "print(\"--- %s seconds ---\" % (time.time() - start_time))Basic aggregation"
   ]
  },
  {
   "cell_type": "markdown",
   "metadata": {},
   "source": [
    "#### Dask ML"
   ]
  },
  {
   "cell_type": "code",
   "execution_count": 24,
   "metadata": {},
   "outputs": [
    {
     "data": {
      "text/plain": [
       "Pipeline(steps=[('categorizer', Categorizer()),\n",
       "                ('dummyencoder', DummyEncoder()),\n",
       "                ('logisticregression', LogisticRegression())])"
      ]
     },
     "execution_count": 24,
     "metadata": {},
     "output_type": "execute_result"
    }
   ],
   "source": [
    "from dask_ml.preprocessing import Categorizer, DummyEncoder\n",
    "\n",
    "from sklearn.linear_model import LogisticRegression\n",
    "\n",
    "from sklearn.pipeline import make_pipeline\n",
    "\n",
    "import pandas as pd\n",
    "\n",
    "import dask.dataframe as dd\n",
    "\n",
    "df = pd.DataFrame({\"A\": [1, 2, 1, 2], \"B\": [\"a\", \"b\", \"c\", \"c\"]})\n",
    "\n",
    "X = dd.from_pandas(df, npartitions=2)\n",
    "\n",
    "y = dd.from_pandas(pd.Series([0, 1, 1, 0]), npartitions=2)\n",
    "\n",
    "pipe = make_pipeline(\n",
    "   Categorizer(),\n",
    "   DummyEncoder(),\n",
    "   LogisticRegression(solver='lbfgs')\n",
    ")\n",
    "\n",
    "\n",
    "pipe.fit(X, y)"
   ]
  }
 ],
 "metadata": {
  "colab": {
   "name": "crypto_data.ipynb",
   "provenance": []
  },
  "kernelspec": {
   "display_name": "Python 3 (ipykernel)",
   "language": "python",
   "name": "python3"
  },
  "language_info": {
   "codemirror_mode": {
    "name": "ipython",
    "version": 3
   },
   "file_extension": ".py",
   "mimetype": "text/x-python",
   "name": "python",
   "nbconvert_exporter": "python",
   "pygments_lexer": "ipython3",
   "version": "3.9.9"
  }
 },
 "nbformat": 4,
 "nbformat_minor": 1
}
